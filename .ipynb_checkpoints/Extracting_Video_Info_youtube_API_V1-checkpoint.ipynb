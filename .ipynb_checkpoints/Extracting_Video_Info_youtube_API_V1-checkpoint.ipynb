{
 "cells": [
  {
   "cell_type": "code",
   "execution_count": 11,
   "id": "fe553170-d39d-4fb9-93d0-a39b6f23cdc7",
   "metadata": {},
   "outputs": [],
   "source": [
    "import requests\n",
    "import pandas as pd\n",
    "import time\n",
    "from IPython.display import JSON"
   ]
  },
  {
   "cell_type": "code",
   "execution_count": 12,
   "id": "96de5d4c-3a4d-4729-9bb6-f390b2a77014",
   "metadata": {},
   "outputs": [],
   "source": [
    "# keys\n",
    "api_key = \"xxxxxxx\"\n",
    "channel_id = \"UCCKlp1JI9Yg3-cUjKPdD3mw\" # magic ingredients"
   ]
  },
  {
   "cell_type": "code",
   "execution_count": 13,
   "id": "740fab64-fefb-4143-9de3-2cc7fb4af8bf",
   "metadata": {},
   "outputs": [],
   "source": [
    "#url = \"https://www.googleapis.com/youtube/v3/videos?id=\"+\"76K8D_cwcvU\"+\"&part=statistics&key=\"+ api_key\n",
    "#response = requests.get(url).json()"
   ]
  },
  {
   "cell_type": "code",
   "execution_count": 14,
   "id": "063f7cf6-73ab-47bc-9c78-e93473c05eac",
   "metadata": {},
   "outputs": [],
   "source": [
    "#JSON(response['items'][0])"
   ]
  },
  {
   "cell_type": "code",
   "execution_count": 15,
   "id": "f90fd1c3-ad18-41cc-a065-4ef5253cf1fc",
   "metadata": {},
   "outputs": [],
   "source": [
    "def get_video_details(video_id):\n",
    "\n",
    "    #collecting view, like, dislike, comment counts\n",
    "    video_stats_url = \"https://www.googleapis.com/youtube/v3/videos?id=\"+video_id+\"&part=statistics&key=\"+ api_key\n",
    "    response_video_stats = requests.get(video_stats_url).json()\n",
    "    \n",
    "    JSON(response_video_stats['items'][0]['statistics'])\n",
    "    try:\n",
    "        view_count = response_video_stats['items'][0]['statistics']['viewCount']\n",
    "    except:\n",
    "        view_count = None\n",
    "    try:\n",
    "        like_count = response_video_stats['items'][0]['statistics']['likeCount']\n",
    "    except:\n",
    "        like_count = None\n",
    "    try:\n",
    "        dislike_count = response_video_stats['items'][0]['statistics']['dislikeCount']\n",
    "    except:\n",
    "        dislike_count = None\n",
    "    try:\n",
    "        comment_count = response_video_stats['items'][0]['statistics']['commentCount']\n",
    "    except:\n",
    "        comment_count = None\n",
    "        \n",
    "    return view_count, like_count, dislike_count, comment_count"
   ]
  },
  {
   "cell_type": "code",
   "execution_count": 16,
   "id": "2d0272f6-24dd-4f3c-936b-30dea168f131",
   "metadata": {},
   "outputs": [],
   "source": [
    "def get_videos(df): \n",
    "    pageToken = \"\" \n",
    "    while True: \n",
    "        url = \"https://www.googleapis.com/youtube/v3/search?key=\"+api_key+\"&channelId=\"+channel_id+\"&part=snippet,id&order=date&maxResults=50&\"+pageToken\n",
    "\n",
    "        response = requests.get(url).json()\n",
    "        time.sleep(1) #give it a second before starting the for loop\n",
    "        for video in response['items']:\n",
    "            if video['id']['kind'] == \"youtube#video\":\n",
    "                video_id = video['id']['videoId']\n",
    "                channel_title = video['snippet']['channelTitle']\n",
    "                video_title = video['snippet']['title']\n",
    "                video_title = str(video_title).replace(\"&\",\"\")\n",
    "                upload_date = video['snippet']['publishedAt']\n",
    "                upload_date = str(upload_date).split(\"T\")[0]\n",
    "                view_count, like_count, dislike_count, comment_count = get_video_details(video_id)\n",
    "\n",
    "                video_item = pd.DataFrame(data={'video_id':video_id, 'channel_title':channel_title, 'video_title':video_title, 'upload_date':upload_date,\n",
    "                                                'view_count':view_count, 'like_count':like_count, 'dislike_count':dislike_count, 'comment_count':comment_count},\n",
    "                                         index =['a', 'b', 'c', 'd', 'e', 'f', 'g', 'h'])\n",
    "                df = pd.concat([df, video_item], ignore_index=True, verify_integrity=False)\n",
    "        try:\n",
    "            if response['nextPageToken'] != None: #if none, it means it reached the last page and break out of it\n",
    "                pageToken = \"pageToken=\" + response['nextPageToken']\n",
    "        except:\n",
    "            break\n",
    "    return df"
   ]
  },
  {
   "cell_type": "code",
   "execution_count": 17,
   "id": "dffbc11f-9d8a-4fe0-8ceb-af4d8dc0a4fe",
   "metadata": {},
   "outputs": [],
   "source": [
    "#build our dataframe\n",
    "video_df = pd.DataFrame(columns=[\"video_id\", \"channel_title\", \"video_title\", \"upload_date\", \"view_count\", \"like_count\", \"dislike_count\", \"comment_count\"]);\n",
    "video_df = get_videos(video_df);"
   ]
  },
  {
   "cell_type": "code",
   "execution_count": 18,
   "id": "241c60a3-4b13-4341-b381-60fac3252376",
   "metadata": {},
   "outputs": [
    {
     "data": {
      "text/plain": [
       "(302, 8)"
      ]
     },
     "execution_count": 18,
     "metadata": {},
     "output_type": "execute_result"
    }
   ],
   "source": [
    "video_df = video_df.drop_duplicates()\n",
    "video_df.shape"
   ]
  },
  {
   "cell_type": "code",
   "execution_count": 19,
   "id": "dc8f3525-a450-427f-a463-87ff11a8a055",
   "metadata": {},
   "outputs": [
    {
     "data": {
      "text/html": [
       "<div>\n",
       "<style scoped>\n",
       "    .dataframe tbody tr th:only-of-type {\n",
       "        vertical-align: middle;\n",
       "    }\n",
       "\n",
       "    .dataframe tbody tr th {\n",
       "        vertical-align: top;\n",
       "    }\n",
       "\n",
       "    .dataframe thead th {\n",
       "        text-align: right;\n",
       "    }\n",
       "</style>\n",
       "<table border=\"1\" class=\"dataframe\">\n",
       "  <thead>\n",
       "    <tr style=\"text-align: right;\">\n",
       "      <th></th>\n",
       "      <th>video_id</th>\n",
       "      <th>channel_title</th>\n",
       "      <th>video_title</th>\n",
       "      <th>upload_date</th>\n",
       "      <th>view_count</th>\n",
       "      <th>like_count</th>\n",
       "      <th>dislike_count</th>\n",
       "      <th>comment_count</th>\n",
       "    </tr>\n",
       "  </thead>\n",
       "  <tbody>\n",
       "    <tr>\n",
       "      <th>0</th>\n",
       "      <td>76K8D_cwcvU</td>\n",
       "      <td>小高姐的 Magic Ingredients</td>\n",
       "      <td>素五鲜水饺</td>\n",
       "      <td>2023-01-21</td>\n",
       "      <td>80071</td>\n",
       "      <td>4444</td>\n",
       "      <td>None</td>\n",
       "      <td>399</td>\n",
       "    </tr>\n",
       "    <tr>\n",
       "      <th>8</th>\n",
       "      <td>FWG_1oZTcS0</td>\n",
       "      <td>小高姐的 Magic Ingredients</td>\n",
       "      <td>蒜蓉虾仁 Garlic Shrimp</td>\n",
       "      <td>2023-01-13</td>\n",
       "      <td>129069</td>\n",
       "      <td>5227</td>\n",
       "      <td>None</td>\n",
       "      <td>369</td>\n",
       "    </tr>\n",
       "    <tr>\n",
       "      <th>16</th>\n",
       "      <td>JpIymnVO5eY</td>\n",
       "      <td>小高姐的 Magic Ingredients</td>\n",
       "      <td>搓麻食</td>\n",
       "      <td>2022-12-21</td>\n",
       "      <td>107346</td>\n",
       "      <td>4907</td>\n",
       "      <td>None</td>\n",
       "      <td>485</td>\n",
       "    </tr>\n",
       "    <tr>\n",
       "      <th>24</th>\n",
       "      <td>1q_I5IHdrdE</td>\n",
       "      <td>小高姐的 Magic Ingredients</td>\n",
       "      <td>灌蛋油条 油条简单做法</td>\n",
       "      <td>2022-11-03</td>\n",
       "      <td>170599</td>\n",
       "      <td>6627</td>\n",
       "      <td>None</td>\n",
       "      <td>362</td>\n",
       "    </tr>\n",
       "    <tr>\n",
       "      <th>32</th>\n",
       "      <td>8P5TlolEPL0</td>\n",
       "      <td>小高姐的 Magic Ingredients</td>\n",
       "      <td>麻酱烧饼</td>\n",
       "      <td>2022-10-20</td>\n",
       "      <td>169710</td>\n",
       "      <td>7426</td>\n",
       "      <td>None</td>\n",
       "      <td>383</td>\n",
       "    </tr>\n",
       "  </tbody>\n",
       "</table>\n",
       "</div>"
      ],
      "text/plain": [
       "       video_id           channel_title         video_title upload_date  \\\n",
       "0   76K8D_cwcvU  小高姐的 Magic Ingredients               素五鲜水饺  2023-01-21   \n",
       "8   FWG_1oZTcS0  小高姐的 Magic Ingredients  蒜蓉虾仁 Garlic Shrimp  2023-01-13   \n",
       "16  JpIymnVO5eY  小高姐的 Magic Ingredients                 搓麻食  2022-12-21   \n",
       "24  1q_I5IHdrdE  小高姐的 Magic Ingredients         灌蛋油条 油条简单做法  2022-11-03   \n",
       "32  8P5TlolEPL0  小高姐的 Magic Ingredients                麻酱烧饼  2022-10-20   \n",
       "\n",
       "   view_count like_count dislike_count comment_count  \n",
       "0       80071       4444          None           399  \n",
       "8      129069       5227          None           369  \n",
       "16     107346       4907          None           485  \n",
       "24     170599       6627          None           362  \n",
       "32     169710       7426          None           383  "
      ]
     },
     "execution_count": 19,
     "metadata": {},
     "output_type": "execute_result"
    }
   ],
   "source": [
    "video_df.head(5)"
   ]
  },
  {
   "cell_type": "code",
   "execution_count": 20,
   "id": "73c00d2d-72f2-4e6a-9b10-41094eeb0b8d",
   "metadata": {},
   "outputs": [],
   "source": [
    "video_df.to_csv('Magic_Ingredients_Videos_Stats.csv', index=False)"
   ]
  },
  {
   "cell_type": "code",
   "execution_count": null,
   "id": "d6bfa33a-4337-4b7a-9a46-59141d2350c1",
   "metadata": {},
   "outputs": [],
   "source": []
  }
 ],
 "metadata": {
  "kernelspec": {
   "display_name": "Python 3 (ipykernel)",
   "language": "python",
   "name": "python3"
  },
  "language_info": {
   "codemirror_mode": {
    "name": "ipython",
    "version": 3
   },
   "file_extension": ".py",
   "mimetype": "text/x-python",
   "name": "python",
   "nbconvert_exporter": "python",
   "pygments_lexer": "ipython3",
   "version": "3.9.13"
  }
 },
 "nbformat": 4,
 "nbformat_minor": 5
}
